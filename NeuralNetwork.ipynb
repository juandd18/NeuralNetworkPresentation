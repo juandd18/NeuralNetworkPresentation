{
 "cells": [
  {
   "cell_type": "markdown",
   "metadata": {
    "deletable": true,
    "editable": true
   },
   "source": [
    "using Andrew Trask, Ian GoodFellow presentation "
   ]
  },
  {
   "cell_type": "markdown",
   "metadata": {
    "deletable": true,
    "editable": true
   },
   "source": [
    "![title](predict_compare.png)\n"
   ]
  },
  {
   "cell_type": "markdown",
   "metadata": {
    "deletable": true,
    "editable": true
   },
   "source": [
    "![title](basic_neuralN.png)"
   ]
  },
  {
   "cell_type": "code",
   "execution_count": 29,
   "metadata": {
    "collapsed": true,
    "deletable": true,
    "editable": true
   },
   "outputs": [],
   "source": [
    "#It multiplies the input by a weight. It \"scales\" the input by a certain amount\n",
    "def neural_network(input, weight):\n",
    "    prediction = input * weight\n",
    "    return prediction"
   ]
  },
  {
   "cell_type": "code",
   "execution_count": 31,
   "metadata": {
    "collapsed": false,
    "deletable": true,
    "editable": true
   },
   "outputs": [
    {
     "name": "stdout",
     "output_type": "stream",
     "text": [
      "1.64\n"
     ]
    }
   ],
   "source": [
    "input = 0.82 # num. of toes\n",
    "weight = 2\n",
    "\n",
    "pred = neural_network(input,weight)\n",
    "print(pred)"
   ]
  },
  {
   "cell_type": "markdown",
   "metadata": {
    "deletable": true,
    "editable": true
   },
   "source": [
    "![title](basic_multipleinputs.png)\n"
   ]
  },
  {
   "cell_type": "code",
   "execution_count": 10,
   "metadata": {
    "collapsed": false,
    "deletable": true,
    "editable": true
   },
   "outputs": [
    {
     "name": "stdout",
     "output_type": "stream",
     "text": [
      "0.98\n"
     ]
    }
   ],
   "source": [
    "def w_sum(a,b):\n",
    "    assert(len(a) == len(b))\n",
    "    output = 0\n",
    "    for i in range(len(a)):\n",
    "        output += (a[i] * b[i])\n",
    "    return output\n",
    "\n",
    "def neural_network(input, weights):\n",
    "    pred = w_sum(input,weights) #weighted sum or dot product \n",
    "    return pred\n",
    "\n",
    "\n",
    "weights = [0.1, 0.2, 0]\n",
    "\n",
    "toes = [8.5, 9.5, 9.9, 9.0]\n",
    "wlrec = [0.65, 0.8, 0.8, 0.9]\n",
    "nfans = [1.2, 1.3, 0.5, 1.0]\n",
    "# input corresponds to every entry\n",
    "# for the first game of the season\n",
    "input = [toes[0],wlrec[0],nfans[0]] # [8.5,0.65,1.2]\n",
    "\n",
    "#[ 8.5*0.1 + 0.65*0.2 + 0 * 1.2]\n",
    "\n",
    "pred = neural_network(input,weights)\n",
    "print(pred)"
   ]
  },
  {
   "cell_type": "code",
   "execution_count": 11,
   "metadata": {
    "collapsed": true,
    "deletable": true,
    "editable": true
   },
   "outputs": [],
   "source": [
    "import numpy as np"
   ]
  },
  {
   "cell_type": "code",
   "execution_count": 12,
   "metadata": {
    "collapsed": false,
    "deletable": true,
    "editable": true
   },
   "outputs": [
    {
     "name": "stdout",
     "output_type": "stream",
     "text": [
      "0.98\n"
     ]
    }
   ],
   "source": [
    "def neural_network(input, weights):\n",
    "    pred = input.dot(weights) # dot product\n",
    "    return pred\n",
    "\n",
    "weight = np.array([0.1, 0.2, 0])\n",
    "\n",
    "toes = np.array([8.5, 9.5, 9.9, 9.0])\n",
    "wlrec = np.array([0.65, 0.8, 0.8, 0.9])\n",
    "nfans = np.array([1.2, 1.3, 0.5, 1.0])\n",
    "# input corresponds to every entry\n",
    "# for the first game of the season\n",
    "\n",
    "input = np.array([toes[0],wlrec[0],nfans[0]]) # [8.5,0.65,1.2]\n",
    "\n",
    "pred = neural_network(input,weight)\n",
    "print(pred)"
   ]
  },
  {
   "cell_type": "markdown",
   "metadata": {
    "deletable": true,
    "editable": true
   },
   "source": [
    "Similarity Notion\n",
    "\n",
    "![title](similarityNotion.png)"
   ]
  },
  {
   "cell_type": "markdown",
   "metadata": {
    "deletable": true,
    "editable": true
   },
   "source": [
    "![title](neural1.png)"
   ]
  },
  {
   "cell_type": "code",
   "execution_count": 13,
   "metadata": {
    "collapsed": false,
    "deletable": true,
    "editable": true
   },
   "outputs": [
    {
     "name": "stdout",
     "output_type": "stream",
     "text": [
      "[ 0.915  2.54  -2.43 ]\n"
     ]
    }
   ],
   "source": [
    "def neural_network(input, weights):\n",
    "    pred = input.dot(weights) # dot product\n",
    "    return pred\n",
    "\n",
    "#weight = np.array([0.1, 0.2, 0])\n",
    "\n",
    "                    #toes %win #fans\n",
    "weights = np.array([ [0.1, 0.1, -0.3],#hurt?\n",
    "                     [0.1, 0.2, 0.0], #win?\n",
    "                     [0.0, 1.3, 0.1] ])#sad?\n",
    "\n",
    "toes = np.array([8.5, 9.5, 9.9, 9.0])\n",
    "wlrec = np.array([0.65, 0.8, 0.8, 0.9])\n",
    "nfans = np.array([1.2, 1.3, 0.5, 1.0])\n",
    "# input corresponds to every entry\n",
    "# for the first game of the season\n",
    "\n",
    "input = np.array([toes[0],wlrec[0],nfans[0]]) # [8.5,0.65,1.2]\n",
    "\n",
    "pred = neural_network(input,weights)\n",
    "print(pred)"
   ]
  },
  {
   "cell_type": "markdown",
   "metadata": {
    "deletable": true,
    "editable": true
   },
   "source": [
    "![title](multi_layer.png)"
   ]
  },
  {
   "cell_type": "code",
   "execution_count": 14,
   "metadata": {
    "collapsed": false,
    "deletable": true,
    "editable": true
   },
   "outputs": [
    {
     "name": "stdout",
     "output_type": "stream",
     "text": [
      "[ 0.2135  0.145   0.5065]\n"
     ]
    }
   ],
   "source": [
    "import numpy as np\n",
    "\n",
    "                   #toes %win #fans\n",
    "ih_wgt = np.array([[0.1, 0.2, -0.1],#hid[0]\n",
    "                   [-0.1,0.1, 0.9], #hid[1]\n",
    "                   [0.1, 0.4, 0.1]]).T #hid[2]\n",
    "\n",
    "                   # hid[0] hid[1] hid[2]\n",
    "hp_wgt = np.array([[0.3, 1.1, -0.3],#hurt?\n",
    "                   [0.1, 0.2, 0.0], #win?\n",
    "                   [0.0, 1.3, 0.1] ]).T#sad?\n",
    "\n",
    "\n",
    "\n",
    "\n",
    "weights = [ih_wgt, hp_wgt]\n",
    "\n",
    "def neural_network(input, weights):\n",
    "    hid = input.dot(weights[0])\n",
    "    pred = hid.dot(weights[1])\n",
    "    return pred\n",
    "\n",
    "toes = np.array([8.5, 9.5, 9.9, 9.0])\n",
    "wlrec = np.array([0.65,0.8, 0.8, 0.9])\n",
    "nfans = np.array([1.2, 1.3, 0.5, 1.0])\n",
    "\n",
    "input = np.array([toes[0],wlrec[0],nfans[0]])\n",
    "\n",
    "pred = neural_network(input,weights)\n",
    "print pred\n",
    "\n",
    "#  To predict, neural networks perform repeated weighted sums or dot product of the input."
   ]
  },
  {
   "cell_type": "markdown",
   "metadata": {
    "deletable": true,
    "editable": true
   },
   "source": [
    "## Compare\n",
    "### A measurement of how much our prediction \"missed\"."
   ]
  },
  {
   "cell_type": "markdown",
   "metadata": {
    "deletable": true,
    "editable": true
   },
   "source": [
    "![title](compare.png)"
   ]
  },
  {
   "cell_type": "markdown",
   "metadata": {
    "deletable": true,
    "editable": true
   },
   "source": [
    "## Learn\n",
    "### \"Learning\" takes our error and tells each weight how it can change to reduce it."
   ]
  },
  {
   "cell_type": "code",
   "execution_count": 22,
   "metadata": {
    "collapsed": false,
    "deletable": true,
    "editable": true
   },
   "outputs": [
    {
     "name": "stdout",
     "output_type": "stream",
     "text": [
      "Error:0.3025 Prediction:0.25\n",
      "Error:0.17015625 Prediction:0.3875\n",
      "Error:0.095712890625 Prediction:0.490625\n",
      "Error:0.0538385009766 Prediction:0.56796875\n",
      "Error:0.0302841567993 Prediction:0.6259765625\n",
      "Error:0.0170348381996 Prediction:0.669482421875\n",
      "Error:0.00958209648728 Prediction:0.702111816406\n",
      "Error:0.0053899292741 Prediction:0.726583862305\n",
      "Error:0.00303183521668 Prediction:0.744937896729\n",
      "Error:0.00170540730938 Prediction:0.758703422546\n",
      "Error:0.000959291611528 Prediction:0.76902756691\n",
      "Error:0.000539601531484 Prediction:0.776770675182\n",
      "Error:0.00030352586146 Prediction:0.782578006387\n",
      "Error:0.000170733297071 Prediction:0.78693350479\n",
      "Error:9.60374796025e-05 Prediction:0.790200128593\n",
      "Error:5.40210822764e-05 Prediction:0.792650096444\n",
      "Error:3.03868587805e-05 Prediction:0.794487572333\n",
      "Error:1.7092608064e-05 Prediction:0.79586567925\n",
      "Error:9.61459203602e-06 Prediction:0.796899259437\n",
      "Error:5.40820802026e-06 Prediction:0.797674444578\n",
      "Error:3.0421170114e-06 Prediction:0.798255833434\n",
      "Error:1.71119081891e-06 Prediction:0.798691875075\n",
      "Error:9.62544835637e-07 Prediction:0.799018906306\n",
      "Error:5.41431470046e-07 Prediction:0.79926417973\n",
      "Error:3.04555201901e-07 Prediction:0.799448134797\n",
      "Error:1.71312301069e-07 Prediction:0.799586101098\n",
      "Error:9.63631693514e-08 Prediction:0.799689575824\n",
      "Error:5.42042827602e-08 Prediction:0.799767181868\n",
      "Error:3.04899090526e-08 Prediction:0.799825386401\n",
      "Error:1.71505738421e-08 Prediction:0.799869039801\n",
      "Error:9.64719778617e-09 Prediction:0.79990177985\n",
      "Error:5.42654875471e-09 Prediction:0.799926334888\n",
      "Error:3.05243367453e-09 Prediction:0.799944751166\n",
      "Error:1.71699394192e-09 Prediction:0.799958563374\n",
      "Error:9.65809092329e-10 Prediction:0.799968922531\n",
      "Error:5.43267614434e-10 Prediction:0.799976691898\n",
      "Error:3.05588033119e-10 Prediction:0.799982518924\n",
      "Error:1.71893268629e-10 Prediction:0.799986889193\n",
      "Error:9.66899636052e-11 Prediction:0.799990166895\n",
      "Error:5.43881045271e-11 Prediction:0.799992625171\n",
      "Error:3.05933087965e-11 Prediction:0.799994468878\n",
      "Error:1.72087361983e-11 Prediction:0.799995851659\n",
      "Error:9.67991411134e-12 Prediction:0.799996888744\n",
      "Error:5.44495168789e-12 Prediction:0.799997666558\n",
      "Error:3.06278532444e-12 Prediction:0.799998249918\n",
      "Error:1.72281674507e-12 Prediction:0.799998687439\n",
      "Error:9.69084418992e-13 Prediction:0.799999015579\n",
      "Error:5.45109985683e-13 Prediction:0.799999261684\n",
      "Error:3.06624366916e-13 Prediction:0.799999446263\n",
      "Error:1.7247620639e-13 Prediction:0.799999584697\n"
     ]
    }
   ],
   "source": [
    "#Gradient Descent\n",
    "\n",
    "weight = 0.5\n",
    "goal_pred = 0.8\n",
    "input = 0.5 #correct input = 0.5, incorrect input = 1000 (scale side efect)\n",
    "\n",
    "for iteration in range(50):\n",
    "    pred = input * weight\n",
    "    error =  (pred - goal_pred) ** 2\n",
    "    #error = (goal_pred -  pred) ** 2\n",
    "     \n",
    "    \n",
    "    direction_and_amount = (pred - goal_pred) * input \n",
    "    #direction_and_amount = (goal_pred - pred) * -input \n",
    "    weight = weight - direction_and_amount # weight + ((-1)* direction_and_amount)\n",
    "    \n",
    "    print \"Error:\" + str(error) + \" Prediction:\" + str(pred)\n",
    "\n",
    "# Learning is adjusting our weight to reduce the error to zero"
   ]
  },
  {
   "cell_type": "markdown",
   "metadata": {
    "deletable": true,
    "editable": true
   },
   "source": [
    "### The Secret\n",
    "\n",
    "For any input and goal_pred, there is an exact relationship\n",
    "defined between our error and weight, found by combining\n",
    "our prediction and error formulas. In this case: <br>\n",
    "error = (  pred - goal_pred) ^ 2 <br>\n",
    "error = ( (input x weight) - goal_pred ) ^ 2 <br>\n",
    "error = ( (0.5 x weight) - 0.8) ^ 2 <br>\n"
   ]
  },
  {
   "cell_type": "markdown",
   "metadata": {
    "deletable": true,
    "editable": true
   },
   "source": [
    "![title](derivate_slope.png)"
   ]
  },
  {
   "cell_type": "code",
   "execution_count": 23,
   "metadata": {
    "collapsed": false,
    "deletable": true,
    "editable": true
   },
   "outputs": [
    {
     "name": "stdout",
     "output_type": "stream",
     "text": [
      "Error:17.64 Prediction:5.0\n",
      "Error:13.660416 Prediction:4.496\n",
      "Error:10.5786261504 Prediction:4.05248\n",
      "Error:8.19208809087 Prediction:3.6621824\n",
      "Error:6.34395301757 Prediction:3.318720512\n",
      "Error:4.91275721681 Prediction:3.01647405056\n",
      "Error:3.80443918869 Prediction:2.75049716449\n",
      "Error:2.94615770772 Prediction:2.51643750475\n",
      "Error:2.28150452886 Prediction:2.31046500418\n",
      "Error:1.76679710715 Prediction:2.12920920368\n",
      "Error:1.36820767978 Prediction:1.96970409924\n",
      "Error:1.05954002722 Prediction:1.82933960733\n",
      "Error:0.820507797079 Prediction:1.70581885445\n",
      "Error:0.635401238058 Prediction:1.59712059192\n",
      "Error:0.492054718752 Prediction:1.50146612089\n",
      "Error:0.381047174202 Prediction:1.41729018638\n",
      "Error:0.295082931702 Prediction:1.34321536401\n",
      "Error:0.22851222231 Prediction:1.27802952033\n",
      "Error:0.176959864957 Prediction:1.22066597789\n",
      "Error:0.137037719422 Prediction:1.17018606055\n",
      "Error:0.106122009921 Prediction:1.12576373328\n",
      "Error:0.0821808844827 Prediction:1.08667208529\n",
      "Error:0.0636408769434 Prediction:1.05227143505\n",
      "Error:0.0492834951049 Prediction:1.02199886285\n",
      "Error:0.0381651386093 Prediction:0.995358999305\n",
      "Error:0.029555083339 Prediction:0.971915919388\n",
      "Error:0.0228874565377 Prediction:0.951286009061\n",
      "Error:0.0177240463428 Prediction:0.933131687974\n",
      "Error:0.0137255014879 Prediction:0.917155885417\n",
      "Error:0.0106290283522 Prediction:0.903097179167\n",
      "Error:0.00823111955596 Prediction:0.890725517667\n",
      "Error:0.00637417898413 Prediction:0.879838455547\n",
      "Error:0.00493616420531 Prediction:0.870257840881\n",
      "Error:0.00382256556059 Prediction:0.861826899976\n",
      "Error:0.00296019477012 Prediction:0.854407671979\n",
      "Error:0.00229237482998 Prediction:0.847878751341\n",
      "Error:0.00177521506834 Prediction:0.84213330118\n",
      "Error:0.00137472654892 Prediction:0.837077305039\n",
      "Error:0.00106458823949 Prediction:0.832628028434\n",
      "Error:0.000824417132657 Prediction:0.828712665022\n",
      "Error:0.00063842862753 Prediction:0.825267145219\n",
      "Error:0.000494399129159 Prediction:0.822235087793\n",
      "Error:0.000382862685621 Prediction:0.819566877258\n",
      "Error:0.000296488863745 Prediction:0.817218851987\n",
      "Error:0.000229600976084 Prediction:0.815152589748\n",
      "Error:0.000177802995879 Prediction:0.813334278979\n",
      "Error:0.000137690640009 Prediction:0.811734165501\n",
      "Error:0.000106627631623 Prediction:0.810326065641\n",
      "Error:8.25724379288e-05 Prediction:0.809086937764\n",
      "Error:6.39440959321e-05 Prediction:0.807996505232\n"
     ]
    }
   ],
   "source": [
    "#gradient descent (values not vector or matrices)\n",
    "\n",
    "weight = 0.5\n",
    "goal_pred = 0.8\n",
    "input = 10 # good input = 10, input = 1000\n",
    "alpha = 0.0012 # learning rate  good alpha = 0.001 \n",
    "\n",
    "for iteration in range(50):\n",
    "    pred = input * weight\n",
    "    error = (pred - goal_pred) ** 2\n",
    "    derivative = (pred - goal_pred) * input \n",
    "    \n",
    "    weight = weight - (alpha * derivative) # EXPLAIN ALPHA\n",
    "    \n",
    "    print \"Error:\" + str(error) + \" Prediction:\" + str(pred)"
   ]
  },
  {
   "cell_type": "code",
   "execution_count": 25,
   "metadata": {
    "collapsed": false,
    "deletable": true,
    "editable": true
   },
   "outputs": [
    {
     "name": "stdout",
     "output_type": "stream",
     "text": [
      "Iteration:1\n",
      "Pred:0.86\n",
      "Error:0.0196\n",
      "Delta:-0.14\n",
      "Weights:[0.1, 0.2, -0.1]\n",
      "Weight_Deltas:\n",
      "[-1.189999999999999, -0.09099999999999994, -0.16799999999999987]\n",
      "\n",
      "Iteration:2\n",
      "Pred:0.9637575\n",
      "Error:0.00131351880625\n",
      "Delta:-0.0362425\n",
      "Weights:[0.1119, 0.20091, -0.09832]\n",
      "Weight_Deltas:\n",
      "[-0.30806125000000056, -0.023557625000000044, -0.04349100000000008]\n",
      "\n",
      "Iteration:3\n",
      "Pred:0.990617722813\n",
      "Error:8.80271252231e-05\n",
      "Delta:-0.0093822771875\n",
      "Weights:[0.11498061250000001, 0.20114557625, -0.09788509000000001]\n",
      "Weight_Deltas:\n",
      "[-0.07974935609374867, -0.006098480171874899, -0.011258732624999811]\n",
      "\n"
     ]
    }
   ],
   "source": [
    "def neural_network(input, weights):\n",
    "    out = 0\n",
    "    for i in range(len(input)):\n",
    "        out += (input[i] * weights[i])\n",
    "    return out\n",
    "\n",
    "\n",
    "def ele_mul(scalar, vector):\n",
    "    out = [0,0,0]\n",
    "    for i in range(len(out)):\n",
    "        out[i] = vector[i] * scalar\n",
    "    return out\n",
    "\n",
    "toes = [8.5, 9.5, 9.9, 9.0] \n",
    "wlrec = [0.65, 0.8, 0.8, 0.9] \n",
    "nfans = [1.2, 1.3, 0.5, 1.0]\n",
    "\n",
    "win_or_lose_binary = [1, 1, 0, 1]\n",
    "true = win_or_lose_binary[0]\n",
    "\n",
    "learning_rate = 0.01\n",
    "weights = [0.1, 0.2, -.1]\n",
    "input = [toes[0],wlrec[0],nfans[0]]\n",
    "\n",
    "for iter in range(3):\n",
    "\n",
    "    pred = neural_network(input,weights)\n",
    "\n",
    "    error = (pred - true) ** 2\n",
    "    delta = pred - true\n",
    "    weight_deltas = ele_mul(delta,input) # explain error attribution\n",
    "    \n",
    "    #delta= -0.14 \n",
    "    #weight_delta = [8.5 * -0.14, 0.65 * -0.14, 1.2 * -0.14] \n",
    "    #weight_delta = [-1.189999999999999, -0.09099999999999994, -0.16799999999999987] INVERSE DIRECTION\n",
    "    #weights =  [ 0.1 - (0.01 * -1.189999999999999), 0.1 - (0.01 * -0.09099999999999994), 0.1 - (0.01 * -0.167999) ]\n",
    "    #Weights =  [0.1119, 0.2, -0.1]\n",
    "    \n",
    "    print(\"Iteration:\" + str(iter+1))\n",
    "    print(\"Pred:\" + str(pred))\n",
    "    print(\"Error:\" + str(error))\n",
    "    print(\"Delta:\" + str(delta))\n",
    "    print(\"Weights:\" + str(weights))\n",
    "    print(\"Weight_Deltas:\")\n",
    "    print(str(weight_deltas))\n",
    "    print\n",
    "   \n",
    "    for i in range(len(weights)):\n",
    "        weights[i] -= learning_rate*weight_deltas[i]"
   ]
  },
  {
   "cell_type": "code",
   "execution_count": 39,
   "metadata": {
    "collapsed": false,
    "deletable": true,
    "editable": true
   },
   "outputs": [
    {
     "name": "stdout",
     "output_type": "stream",
     "text": [
      "0.1119\n",
      "0.935\n",
      "0.13\n"
     ]
    }
   ],
   "source": [
    "print(0.1 - (0.01 * -1.189999999999999))\n",
    "print(8.5 * 0.11)\n",
    "print(0.65 * 0.20)"
   ]
  },
  {
   "cell_type": "code",
   "execution_count": 32,
   "metadata": {
    "collapsed": false,
    "deletable": true,
    "editable": true
   },
   "outputs": [
    {
     "name": "stdout",
     "output_type": "stream",
     "text": [
      "Iteration:1\n",
      "Pred:0.86\n",
      "Error:0.0196\n",
      "Delta:-0.14\n",
      "Weights:[0.1, 0.2, -0.1]\n",
      "Weight_Deltas:\n",
      "[ 0.    -0.091 -0.168]\n",
      "\n",
      "Iteration:2\n",
      "Pred:0.886075\n",
      "Error:0.012978905625\n",
      "Delta:-0.113925\n",
      "Weights:[0.10000000000000001, 0.20910000000000001, -0.083200000000000024]\n",
      "Weight_Deltas:\n",
      "[ 0.         -0.07405125 -0.13671   ]\n",
      "\n",
      "Iteration:3\n",
      "Pred:0.90729353125\n",
      "Error:0.00859448934809\n",
      "Delta:-0.09270646875\n",
      "Weights:[0.10000000000000001, 0.21650512499999999, -0.069529000000000035]\n",
      "Weight_Deltas:\n",
      "[ 0.         -0.0602592  -0.11124776]\n",
      "\n",
      "Iteration:4\n",
      "Pred:0.924560111055\n",
      "Error:0.00569117684408\n",
      "Delta:-0.0754398889453\n",
      "Weights:[0.10000000000000001, 0.22253104546874999, -0.058404223750000046]\n",
      "Weight_Deltas:\n",
      "[ 0.         -0.04903593 -0.09052787]\n",
      "\n",
      "Iteration:5\n",
      "Pred:0.938610790371\n",
      "Error:0.0037686350589\n",
      "Delta:-0.0613892096292\n",
      "Weights:[0.10000000000000001, 0.2274346382501953, -0.049351437076562546]\n",
      "Weight_Deltas:\n",
      "[ 0.         -0.03990299 -0.07366705]\n",
      "\n",
      "Iteration:6\n",
      "Pred:0.950044530664\n",
      "Error:0.00249554891656\n",
      "Delta:-0.0499554693358\n",
      "Weights:[0.10000000000000001, 0.23142493687609642, -0.041984731921052787]\n",
      "Weight_Deltas:\n",
      "[ 0.         -0.03247106 -0.05994656]\n",
      "\n",
      "Iteration:7\n",
      "Pred:0.959348736828\n",
      "Error:0.00165252519748\n",
      "Delta:-0.040651263172\n",
      "Weights:[0.10000000000000001, 0.23467204238292347, -0.035990075600756712]\n",
      "Weight_Deltas:\n",
      "[ 0.         -0.02642332 -0.04878152]\n",
      "\n",
      "Iteration:8\n",
      "Pred:0.966920034594\n",
      "Error:0.00109428411128\n",
      "Delta:-0.0330799654062\n",
      "Weights:[0.10000000000000001, 0.23731437448910397, -0.031111924020115797]\n",
      "Weight_Deltas:\n",
      "[ 0.         -0.02150198 -0.03969596]\n",
      "\n",
      "Iteration:9\n",
      "Pred:0.973081178151\n",
      "Error:0.000724622969755\n",
      "Delta:-0.0269188218493\n",
      "Weights:[0.10000000000000001, 0.23946457224050835, -0.027142328171369245]\n",
      "Weight_Deltas:\n",
      "[ 0.         -0.01749723 -0.03230259]\n",
      "\n",
      "Iteration:10\n",
      "Pred:0.97809480872\n",
      "Error:0.000479837405008\n",
      "Delta:-0.0219051912799\n",
      "Weights:[0.10000000000000001, 0.24121429566071367, -0.023912069549451746]\n",
      "Weight_Deltas:\n",
      "[ 0.         -0.01423837 -0.02628623]\n",
      "\n",
      "Iteration:11\n",
      "Pred:0.982174650596\n",
      "Error:0.000317743081375\n",
      "Delta:-0.017825349404\n",
      "Weights:[0.10000000000000001, 0.24263813309390575, -0.021283446595866361]\n",
      "Weight_Deltas:\n",
      "[ 0.         -0.01158648 -0.02139042]\n",
      "\n",
      "Iteration:12\n",
      "Pred:0.985494621922\n",
      "Error:0.000210405993171\n",
      "Delta:-0.0145053780775\n",
      "Weights:[0.10000000000000001, 0.24379678080516581, -0.019144404667386247]\n",
      "Weight_Deltas:\n",
      "[ 0.         -0.0094285  -0.01740645]\n",
      "\n",
      "Iteration:13\n",
      "Pred:0.988196248589\n",
      "Error:0.000139328547363\n",
      "Delta:-0.0118037514106\n",
      "Weights:[0.10000000000000001, 0.24473963038020369, -0.017403759298085558]\n",
      "Weight_Deltas:\n",
      "[ 0.         -0.00767244 -0.0141645 ]\n",
      "\n",
      "Iteration:14\n",
      "Pred:0.99039469729\n",
      "Error:9.22618401575e-05\n",
      "Delta:-0.00960530271035\n",
      "Weights:[0.10000000000000001, 0.24550687422189074, -0.015987309128817146]\n",
      "Weight_Deltas:\n",
      "[ 0.         -0.00624345 -0.01152636]\n",
      "\n",
      "Iteration:15\n",
      "Pred:0.992183684919\n",
      "Error:6.10947814384e-05\n",
      "Delta:-0.00781631508055\n",
      "Weights:[0.10000000000000001, 0.24613121889806358, -0.014834672803574974]\n",
      "Weight_Deltas:\n",
      "[ 0.         -0.0050806  -0.00937958]\n",
      "\n",
      "Iteration:16\n",
      "Pred:0.993639473603\n",
      "Error:4.04562960443e-05\n",
      "Delta:-0.0063605263968\n",
      "Weights:[0.10000000000000001, 0.24663927937829924, -0.013896714993909143]\n",
      "Weight_Deltas:\n",
      "[ 0.         -0.00413434 -0.00763263]\n",
      "\n",
      "Iteration:17\n",
      "Pred:0.994824121645\n",
      "Error:2.67897167498e-05\n",
      "Delta:-0.00517587835539\n",
      "Weights:[0.10000000000000001, 0.24705271359409101, -0.013133451826293588]\n",
      "Weight_Deltas:\n",
      "[ 0.         -0.00336432 -0.00621105]\n",
      "\n",
      "Iteration:18\n",
      "Pred:0.995788128988\n",
      "Error:1.77398574192e-05\n",
      "Delta:-0.0042118710117\n",
      "Weights:[0.10000000000000001, 0.24738914568719156, -0.012512346423646426]\n",
      "Weight_Deltas:\n",
      "[ 0.         -0.00273772 -0.00505425]\n",
      "\n",
      "Iteration:19\n",
      "Pred:0.996572589964\n",
      "Error:1.17471395533e-05\n",
      "Delta:-0.00342741003577\n",
      "Weights:[0.10000000000000001, 0.24766291730295212, -0.012006921902242298]\n",
      "Weight_Deltas:\n",
      "[ 0.         -0.00222782 -0.00411289]\n",
      "\n",
      "Iteration:20\n",
      "Pred:0.997210945083\n",
      "Error:7.77882732786e-06\n",
      "Delta:-0.00278905491661\n",
      "Weights:[0.10000000000000001, 0.24788569895527729, -0.011595632697949677]\n",
      "Weight_Deltas:\n",
      "[ 0.         -0.00181289 -0.00334687]\n",
      "\n"
     ]
    }
   ],
   "source": [
    "toes = [8.5, 9.5, 9.9, 9.0] \n",
    "wlrec = [0.65, 0.8, 0.8, 0.9] \n",
    "nfans = [1.2, 1.3, 0.5, 1.0]\n",
    "\n",
    "win_or_lose_binary = [1, 1, 0, 1]\n",
    "true = win_or_lose_binary[0]\n",
    "\n",
    "learning_rate = 0.1\n",
    "weights = [0.1, 0.2, -.1]\n",
    "input = [toes[0],wlrec[0],nfans[0]]\n",
    "\n",
    "for iter in range(20):\n",
    "\n",
    "    pred = np.dot(input,weights)\n",
    "\n",
    "    error = (pred - true) ** 2\n",
    "    delta = pred - true\n",
    "    weight_deltas = np.dot(delta, input) \n",
    "    \n",
    "    #ASK IF IT WILL FIND THE SOLUTION\n",
    "    weight_deltas[0] = 0 #FIX THE WEIGHT DELTA TO ZERO\n",
    "    \n",
    "    \n",
    "    print(\"Iteration:\" + str(iter+1))\n",
    "    print(\"Pred:\" + str(pred))\n",
    "    print(\"Error:\" + str(error))\n",
    "    print(\"Delta:\" + str(delta))\n",
    "    print(\"Weights:\" + str(weights))\n",
    "    print(\"Weight_Deltas:\")\n",
    "    print(str(weight_deltas))\n",
    "    print\n",
    "   \n",
    "    for i in range(len(weights)):\n",
    "        weights[i] -= learning_rate*weight_deltas[i]"
   ]
  },
  {
   "cell_type": "markdown",
   "metadata": {
    "deletable": true,
    "editable": true
   },
   "source": [
    "![title](matrixnumber.png)"
   ]
  },
  {
   "cell_type": "code",
   "execution_count": null,
   "metadata": {
    "collapsed": true,
    "deletable": true,
    "editable": true
   },
   "outputs": [],
   "source": [
    "#QUIZ\n",
    " x * x = 12, 6 * 2\n",
    " x * x * x = 12 , 6 * 2 * 1 \n",
    " x * x * x * x = 12 , 6 * 2 * 1 * 1\n",
    " x * x * x * x * x = 12, 6 * 2 * 1 * 1 * 1\n",
    " x * 0 * 0 * x * x * 0 * x * 0 * x * x = 12 , 3 * 2 * 1 * 1 * 2 * 1 * 1 ..."
   ]
  },
  {
   "cell_type": "code",
   "execution_count": null,
   "metadata": {
    "collapsed": true,
    "deletable": true,
    "editable": true
   },
   "outputs": [],
   "source": []
  },
  {
   "cell_type": "markdown",
   "metadata": {
    "deletable": true,
    "editable": true
   },
   "source": [
    "![title](nolinearity.png)"
   ]
  },
  {
   "cell_type": "code",
   "execution_count": 87,
   "metadata": {
    "collapsed": false,
    "deletable": true,
    "editable": true
   },
   "outputs": [
    {
     "name": "stdout",
     "output_type": "stream",
     "text": [
      "64\n",
      "64\n"
     ]
    }
   ],
   "source": [
    "print(2*2*2*2*2*2) \n",
    "print(2*32)"
   ]
  },
  {
   "cell_type": "markdown",
   "metadata": {
    "deletable": true,
    "editable": true
   },
   "source": [
    "![title](correlation.png)"
   ]
  },
  {
   "cell_type": "markdown",
   "metadata": {
    "deletable": true,
    "editable": true
   },
   "source": [
    "![title](multilayer2.png)"
   ]
  },
  {
   "cell_type": "code",
   "execution_count": 33,
   "metadata": {
    "collapsed": false,
    "deletable": true,
    "editable": true
   },
   "outputs": [
    {
     "name": "stdout",
     "output_type": "stream",
     "text": [
      "Error:0.0231722226572\n",
      "Error:0.376979980889\n",
      "Error:0.558544634951\n",
      "Error:0.634231159844\n",
      "Error:6.58397460375e-05\n",
      "Error:0.183400147979\n",
      "Error:0.314970704174\n",
      "Error:0.358384076763\n",
      "Error:1.28548071748e-14\n",
      "Error:0.0327166922284\n",
      "Error:0.07944050756\n",
      "Error:0.0830183113303\n",
      "Error:2.43802511468e-24\n",
      "Error:0.00161921276342\n",
      "Error:0.00644823230423\n",
      "Error:0.0064670549571\n",
      "Error:0.0\n",
      "Error:6.29905463671e-05\n",
      "Error:0.000329266900075\n",
      "Error:0.000329266900075\n",
      "Error:0.0\n",
      "Error:2.85861468972e-06\n",
      "Error:1.50556226651e-05\n",
      "Error:1.50556226651e-05\n"
     ]
    }
   ],
   "source": [
    "import numpy as np\n",
    "\n",
    "np.random.seed(1)\n",
    "\n",
    "def relu(x):\n",
    "    return (x > 0) * x # returns x if x > 0\n",
    "# return 0 otherwise\n",
    "\n",
    "def relu2deriv(output):\n",
    "    return output>0 # returns 1 for input > 0\n",
    "# return 0 otherwise\n",
    "\n",
    "streetlights = np.array( [[ 1, 0, 1 ],\n",
    "[ 0, 1, 1 ],\n",
    "[ 0, 0, 1 ],\n",
    "[ 1, 1, 1 ] ] )\n",
    "\n",
    "walk_vs_stop = np.array([[ 1, 1, 0, 0]]).T\n",
    "\n",
    "alpha = 0.2\n",
    "hidden_size = 4\n",
    "weights_0_1 = 2*np.random.random((3,hidden_size)) - 1\n",
    "weights_1_2 = 2*np.random.random((hidden_size,1)) - 1\n",
    "\n",
    "for iteration in xrange(60):\n",
    "    layer_2_error = 0\n",
    "    for i in xrange(len(streetlights)):\n",
    "        layer_0 = streetlights[i:i+1]\n",
    "        layer_1 = relu(np.dot(layer_0,weights_0_1))\n",
    "        layer_2 = np.dot(layer_1,weights_1_2)  \n",
    "        \n",
    "        layer_2_error += np.sum((layer_2 - walk_vs_stop[i:i+1]) ** 2)\n",
    "        layer_2_delta = (layer_2 - walk_vs_stop[i:i+1])\n",
    "        layer_1_delta = layer_2_delta.dot(weights_1_2.T)*relu2deriv(layer_1)\n",
    "        \n",
    "        weights_1_2 -= alpha * layer_1.T.dot(layer_2_delta)\n",
    "        weights_0_1 -= alpha * layer_0.T.dot(layer_1_delta)\n",
    "        if(iteration % 10 == 9):\n",
    "            print \"Error:\" + str(layer_2_error)\n",
    "            \n",
    "    "
   ]
  },
  {
   "cell_type": "code",
   "execution_count": null,
   "metadata": {
    "collapsed": true,
    "deletable": true,
    "editable": true
   },
   "outputs": [],
   "source": []
  }
 ],
 "metadata": {
  "anaconda-cloud": {},
  "kernelspec": {
   "display_name": "Python 2",
   "language": "python",
   "name": "python2"
  },
  "language_info": {
   "codemirror_mode": {
    "name": "ipython",
    "version": 2
   },
   "file_extension": ".py",
   "mimetype": "text/x-python",
   "name": "python",
   "nbconvert_exporter": "python",
   "pygments_lexer": "ipython2",
   "version": "2.7.13"
  }
 },
 "nbformat": 4,
 "nbformat_minor": 2
}
